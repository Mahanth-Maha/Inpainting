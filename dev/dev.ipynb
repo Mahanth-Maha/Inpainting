{
 "cells": [
  {
   "cell_type": "code",
   "execution_count": null,
   "id": "17a8674d",
   "metadata": {
    "vscode": {
     "languageId": "plaintext"
    }
   },
   "outputs": [],
   "source": [
    "print('Hello Cruel World')"
   ]
  }
 ],
 "metadata": {
  "language_info": {
   "name": "python"
  }
 },
 "nbformat": 4,
 "nbformat_minor": 5
}
